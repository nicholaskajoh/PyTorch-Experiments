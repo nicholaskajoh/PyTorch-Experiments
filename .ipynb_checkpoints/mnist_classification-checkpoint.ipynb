{
 "cells": [
  {
   "cell_type": "markdown",
   "metadata": {},
   "source": [
    "## Handwritten Digits Classification Using the MNIST Dataset"
   ]
  },
  {
   "cell_type": "code",
   "execution_count": 2,
   "metadata": {},
   "outputs": [
    {
     "name": "stderr",
     "output_type": "stream",
     "text": [
      "/usr/lib/python3/dist-packages/requests/__init__.py:80: RequestsDependencyWarning: urllib3 (1.24.1) or chardet (3.0.4) doesn't match a supported version!\n",
      "  RequestsDependencyWarning)\n"
     ]
    }
   ],
   "source": [
    "from torchvision import transforms, datasets\n",
    "import torch\n",
    "from torch import nn, optim\n",
    "import torch.nn.functional as F"
   ]
  },
  {
   "cell_type": "markdown",
   "metadata": {},
   "source": [
    "download and load training and testing data"
   ]
  },
  {
   "cell_type": "code",
   "execution_count": 3,
   "metadata": {},
   "outputs": [],
   "source": [
    "transform = transforms.Compose([\n",
    "    transforms.ToTensor(),\n",
    "    transforms.Normalize((0.5, 0.5, 0.5, 0.5,), (0.5, 0.5, 0.5, 0.5,)),\n",
    "])\n",
    "\n",
    "train = datasets.MNIST('data/mnist/', download=True, train=True, transform=transform)\n",
    "trainloader = torch.utils.data.DataLoader(train, batch_size=64, shuffle=True)\n",
    "\n",
    "test = datasets.MNIST('data/mnist/', download=True, train=False, transform=transform)\n",
    "testloader = torch.utils.data.DataLoader(test)"
   ]
  },
  {
   "cell_type": "markdown",
   "metadata": {},
   "source": [
    "create model"
   ]
  },
  {
   "cell_type": "code",
   "execution_count": 21,
   "metadata": {},
   "outputs": [],
   "source": [
    "model = nn.Sequential(nn.Linear(784, 128),\n",
    "                      nn.ReLU(),\n",
    "                      nn.Dropout(p=0.2),\n",
    "                      \n",
    "                      nn.Linear(128, 64),\n",
    "                      nn.ReLU(),\n",
    "                      nn.Dropout(p=0.2),\n",
    "                      \n",
    "                      nn.Linear(64, 10),\n",
    "                      nn.LogSoftmax(dim=1))"
   ]
  },
  {
   "cell_type": "markdown",
   "metadata": {},
   "source": [
    "train model"
   ]
  },
  {
   "cell_type": "code",
   "execution_count": 22,
   "metadata": {},
   "outputs": [
    {
     "name": "stdout",
     "output_type": "stream",
     "text": [
      "Training loss (epoch 1): 1.9638300193652416\n",
      "Training loss (epoch 2): 1.0885235772712398\n",
      "Training loss (epoch 3): 0.7305113810466043\n",
      "Training loss (epoch 4): 0.5962117362632426\n",
      "Training loss (epoch 5): 0.5266355815917444\n",
      "Training loss (epoch 6): 0.4778193776636744\n",
      "Training loss (epoch 7): 0.44163732151232804\n",
      "Training loss (epoch 8): 0.42186741202052974\n",
      "Training loss (epoch 9): 0.3978890733900609\n",
      "Training loss (epoch 10): 0.38211232832055103\n",
      "Training loss (epoch 11): 0.36573426102969187\n",
      "Training loss (epoch 12): 0.35326499274290446\n",
      "Training loss (epoch 13): 0.34087350715134446\n",
      "Training loss (epoch 14): 0.3318186255374443\n",
      "Training loss (epoch 15): 0.32436797912441084\n",
      "Training loss (epoch 16): 0.31146048214326283\n",
      "Training loss (epoch 17): 0.3023461396776156\n",
      "Training loss (epoch 18): 0.2932683113239594\n",
      "Training loss (epoch 19): 0.28631357831169546\n",
      "Training loss (epoch 20): 0.2785105089436589\n",
      "Training loss (epoch 21): 0.2722223752152437\n",
      "Training loss (epoch 22): 0.26456515028723265\n",
      "Training loss (epoch 23): 0.25896807897414986\n",
      "Training loss (epoch 24): 0.2519118553325375\n",
      "Training loss (epoch 25): 0.2468304266331038\n",
      "Training loss (epoch 26): 0.24027735336042289\n",
      "Training loss (epoch 27): 0.23723696256433724\n",
      "Training loss (epoch 28): 0.23300560380715424\n",
      "Training loss (epoch 29): 0.22464446093974463\n",
      "Training loss (epoch 30): 0.2222449179135088\n"
     ]
    }
   ],
   "source": [
    "criterion = nn.NLLLoss()\n",
    "optimizer = optim.SGD(model.parameters(), lr=0.003)\n",
    "\n",
    "epochs = 30\n",
    "for e in range(epochs):\n",
    "    running_loss = 0\n",
    "    for images, labels in trainloader:\n",
    "        images = images.view(images.shape[0], -1) # flatten images into 784-long vectors\n",
    "        \n",
    "        optimizer.zero_grad()\n",
    "        \n",
    "        output = model.forward(images)\n",
    "        loss = criterion(output, labels)\n",
    "        loss.backward()\n",
    "        optimizer.step()\n",
    "        \n",
    "        running_loss += loss.item()\n",
    "    print(\"Training loss (epoch %d):\" % (e + 1), running_loss / len(trainloader))"
   ]
  },
  {
   "cell_type": "markdown",
   "metadata": {},
   "source": [
    "test and validate"
   ]
  },
  {
   "cell_type": "code",
   "execution_count": 25,
   "metadata": {
    "scrolled": true
   },
   "outputs": [
    {
     "name": "stdout",
     "output_type": "stream",
     "text": [
      "Accuracy:  0.9502\n"
     ]
    }
   ],
   "source": [
    "test_correct = 0\n",
    "test_total = len(testloader)\n",
    "\n",
    "with torch.no_grad():\n",
    "    model.eval() # turn off dropout\n",
    "    for image, label in testloader:\n",
    "        image = image.view(1, 784)\n",
    "\n",
    "        logits = model.forward(image)\n",
    "\n",
    "        probabilities = F.softmax(logits, dim=1)\n",
    "        probabilities_list = probabilities[0].numpy().tolist()\n",
    "        max_probability = max(probabilities_list)\n",
    "        prediction = probabilities_list.index(max_probability)\n",
    "\n",
    "        if prediction == label:\n",
    "            test_correct += 1\n",
    "    model.train() # turn on dropout\n",
    "    \n",
    "print(\"Accuracy: \", test_correct / test_total)"
   ]
  },
  {
   "cell_type": "markdown",
   "metadata": {},
   "source": [
    "save and load model"
   ]
  },
  {
   "cell_type": "code",
   "execution_count": 26,
   "metadata": {},
   "outputs": [],
   "source": [
    "torch.save(model.state_dict(), 'models/mnist.pth')\n",
    "\n",
    "state_dict = torch.load('models/mnist.pth')\n",
    "model.load_state_dict(state_dict)"
   ]
  }
 ],
 "metadata": {
  "kernelspec": {
   "display_name": "Python 3",
   "language": "python",
   "name": "python3"
  },
  "language_info": {
   "codemirror_mode": {
    "name": "ipython",
    "version": 3
   },
   "file_extension": ".py",
   "mimetype": "text/x-python",
   "name": "python",
   "nbconvert_exporter": "python",
   "pygments_lexer": "ipython3",
   "version": "3.6.7"
  }
 },
 "nbformat": 4,
 "nbformat_minor": 2
}
